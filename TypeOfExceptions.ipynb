{
 "cells": [
  {
   "cell_type": "code",
   "execution_count": null,
   "id": "8694e7f6",
   "metadata": {},
   "outputs": [],
   "source": [
    "\n",
    "\n",
    "Que9) Identify the type Of Exceptions\n",
    "\n",
    "1) 6+'a'-                                                                     Unsupported operand type(s) for +: 'int' and 'str'\n",
    "2) Referring to 12th item in list that has only 10 items-                                           list index out of range\n",
    "3) math.sqrt(-1.0)-                                                                                  math domain error.\n",
    "4) Using an undeclared variable, such as print(x) when x is not been defined-                        name'x' is not defined.\n",
    "5) Trying to open a file that does not exist, such as mistyping the file name or looking in wrong directory- No such file or directory : 'file_name.txt'"
   ]
  }
 ],
 "metadata": {
  "kernelspec": {
   "display_name": "Python 3 (ipykernel)",
   "language": "python",
   "name": "python3"
  },
  "language_info": {
   "codemirror_mode": {
    "name": "ipython",
    "version": 3
   },
   "file_extension": ".py",
   "mimetype": "text/x-python",
   "name": "python",
   "nbconvert_exporter": "python",
   "pygments_lexer": "ipython3",
   "version": "3.9.12"
  }
 },
 "nbformat": 4,
 "nbformat_minor": 5
}
