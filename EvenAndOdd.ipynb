{
 "cells": [
  {
   "cell_type": "code",
   "execution_count": 21,
   "id": "b1636add",
   "metadata": {},
   "outputs": [
    {
     "name": "stdout",
     "output_type": "stream",
     "text": [
      "The odd elements is:25\n",
      "The odd elements is:47\n",
      "The even elements is:56\n",
      "The even elements is:42\n",
      "The even elements is:32\n"
     ]
    }
   ],
   "source": [
    "/* The program separates even and odd integers from the array*/\n",
    "\n",
    "int[] arr={25,47,56,42,32};\n",
    "int size=0;\n",
    "int[] oddelem=new int[2];\n",
    "\n",
    "\n",
    "for(int i=0;i<5;i++)\n",
    "{\n",
    "    if(arr[i]%2!=0)\n",
    "    {\n",
    "        oddelem[size]=arr[i];\n",
    "       \n",
    "        size++;\n",
    "    }\n",
    "}\n",
    "for(int i=0;i<oddelem.Length;i++)\n",
    "{\n",
    "    Console.WriteLine(\"The odd elements is:{0}\",oddelem[i]);\n",
    "}\n",
    "for(int i=0;i<arr.Length;i++)\n",
    "\n",
    "{\n",
    "    if(arr[i]%2==0)\n",
    "    {\n",
    "    Console.WriteLine(\"The even elements is:{0}\",arr[i]);\n",
    "    }\n",
    "}\n",
    "\n",
    "//for(int )"
   ]
  },
  {
   "cell_type": "code",
   "execution_count": null,
   "id": "3c9a5fea",
   "metadata": {},
   "outputs": [],
   "source": []
  },
  {
   "cell_type": "code",
   "execution_count": null,
   "id": "fbec51a9",
   "metadata": {},
   "outputs": [],
   "source": []
  }
 ],
 "metadata": {
  "kernelspec": {
   "display_name": ".NET (C#)",
   "language": "C#",
   "name": ".net-csharp"
  },
  "language_info": {
   "file_extension": ".cs",
   "mimetype": "text/x-csharp",
   "name": "C#",
   "pygments_lexer": "csharp",
   "version": "8.0"
  }
 },
 "nbformat": 4,
 "nbformat_minor": 5
}
