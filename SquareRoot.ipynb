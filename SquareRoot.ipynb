{
 "cells": [
  {
   "cell_type": "code",
   "execution_count": 5,
   "id": "a2ff2856",
   "metadata": {},
   "outputs": [
    {
     "name": "stdout",
     "output_type": "stream",
     "text": [
      "11.61895003862225\r\n"
     ]
    }
   ],
   "source": [
    "/* The program shows the area of triangle with sides a , b and c*/\n",
    "\n",
    "int a=4,b=6,c=8;\n",
    "double s=((a+b+c)/2);\n",
    "\n",
    "double area=Math.Sqrt(s*(s-a)*(s-b)*(s-c));\n",
    "\n",
    "Console.WriteLine(area);"
   ]
  },
  {
   "cell_type": "code",
   "execution_count": null,
   "id": "aa2736b1",
   "metadata": {},
   "outputs": [],
   "source": []
  }
 ],
 "metadata": {
  "kernelspec": {
   "display_name": ".NET (C#)",
   "language": "C#",
   "name": ".net-csharp"
  },
  "language_info": {
   "file_extension": ".cs",
   "mimetype": "text/x-csharp",
   "name": "C#",
   "pygments_lexer": "csharp",
   "version": "8.0"
  }
 },
 "nbformat": 4,
 "nbformat_minor": 5
}
