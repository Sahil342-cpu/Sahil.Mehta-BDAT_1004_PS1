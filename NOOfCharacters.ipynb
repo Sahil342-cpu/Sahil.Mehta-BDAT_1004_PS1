{
 "cells": [
  {
   "cell_type": "code",
   "execution_count": 3,
   "id": "97b781cd",
   "metadata": {},
   "outputs": [
    {
     "name": "stdout",
     "output_type": "stream",
     "text": [
      "34\r\n"
     ]
    }
   ],
   "source": [
    "/* The program depicts , the number of letters in string str*/\n",
    "\n",
    "String str=\"Supercalifragilisticexpialidocious\";\n",
    "\n",
    "int len=0;\n",
    "\n",
    "for(int i=0;i<str.Length;i++)\n",
    "{\n",
    "    len++;\n",
    "}\n",
    "Console.WriteLine(len);"
   ]
  },
  {
   "cell_type": "code",
   "execution_count": null,
   "id": "6aec40a3",
   "metadata": {},
   "outputs": [],
   "source": []
  }
 ],
 "metadata": {
  "kernelspec": {
   "display_name": ".NET (C#)",
   "language": "C#",
   "name": ".net-csharp"
  },
  "language_info": {
   "file_extension": ".cs",
   "mimetype": "text/x-csharp",
   "name": "C#",
   "pygments_lexer": "csharp",
   "version": "8.0"
  }
 },
 "nbformat": 4,
 "nbformat_minor": 5
}
