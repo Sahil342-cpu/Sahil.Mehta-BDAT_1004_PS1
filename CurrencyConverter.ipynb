{
 "cells": [
  {
   "cell_type": "code",
   "execution_count": null,
   "id": "f6c348bb",
   "metadata": {},
   "outputs": [],
   "source": [
    "# The program converts the input entered into into US dollars\n",
    "\n",
    "Readfile= open(\"Currencies.txt\",\"r\")\n",
    "lines=[]\n",
    "\n",
    "lineList=Readfile.readlines()\n",
    "\n",
    "dict1={}\n",
    "\n",
    "\n",
    "    \n",
    "for j in range(len(lineList)):\n",
    "    lines.append(lineList[j].split())\n",
    "    \n",
    "for i in lines : dict1[i[0]]=float(i[1])\n",
    "        \n",
    "def convir(ccode,value):\n",
    "    return value*dict1[ccode]\n",
    "convir('JPY', 100)"
   ]
  }
 ],
 "metadata": {
  "kernelspec": {
   "display_name": "Python 3 (ipykernel)",
   "language": "python",
   "name": "python3"
  },
  "language_info": {
   "codemirror_mode": {
    "name": "ipython",
    "version": 3
   },
   "file_extension": ".py",
   "mimetype": "text/x-python",
   "name": "python",
   "nbconvert_exporter": "python",
   "pygments_lexer": "ipython3",
   "version": "3.9.12"
  }
 },
 "nbformat": 4,
 "nbformat_minor": 5
}
