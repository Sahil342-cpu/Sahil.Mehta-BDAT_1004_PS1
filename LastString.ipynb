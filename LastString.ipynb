{
 "cells": [
  {
   "cell_type": "code",
   "execution_count": 18,
   "id": "7dad156b",
   "metadata": {},
   "outputs": [
    {
     "name": "stdout",
     "output_type": "stream",
     "text": [
      "The last string is :Buxtehude\r\n"
     ]
    }
   ],
   "source": [
    "/* The program shows , which among the seven strings has last rank in dictionary*/\n",
    "String str1=\"Beliroz\";\n",
    "String str2=\"Borodin\";\n",
    "String str3=\"Brian\";\n",
    "String str4=\"Bartok\";\n",
    "String str5=\"Bellini\";\n",
    "String str6=\"Buxtehude\";\n",
    "String str7=\"Bernstein\";\n",
    "\n",
    "String str_Last=\"\", str_Last1=\"\",str_Last2=\"\",\n",
    "\n",
    "str_FinalLast=\"\";\n",
    "\n",
    "if(str1[1]>str2[1])\n",
    "{\n",
    "    str_Last=str1;\n",
    "}\n",
    "else\n",
    "{\n",
    "    str_Last=str2;\n",
    "}\n",
    "\n",
    "if(str3[1]>str4[1])\n",
    "{\n",
    "    str_Last1=str3;\n",
    "}\n",
    "else\n",
    "{\n",
    "    str_Last1=str4;\n",
    "}\n",
    "\n",
    "if(str5[1]>str6[1])\n",
    "{\n",
    "    str_Last2=str5;\n",
    "}\n",
    "else\n",
    "{\n",
    "    str_Last2=str6;\n",
    "}\n",
    "if(str_Last[1]>str_Last1[1])\n",
    "{\n",
    "    str_FinalLast=str_Last;\n",
    "}\n",
    "else\n",
    "{\n",
    "    str_FinalLast=str_Last1;\n",
    "}\n",
    "if(str_Last1[1]>str_Last2[1])\n",
    "{\n",
    "    str_FinalLast=str_Last1;\n",
    "}\n",
    "else\n",
    "{\n",
    "    str_FinalLast=str_Last2;\n",
    "}\n",
    "if(str_FinalLast[1]>str7[1])\n",
    "{\n",
    "    Console.WriteLine(\"The last string is :{0}\",str_FinalLast);\n",
    "}\n",
    "else\n",
    "{\n",
    "    Console.WriteLine(\"The last string is:{0}\", str7);\n",
    "}\n"
   ]
  },
  {
   "cell_type": "code",
   "execution_count": null,
   "id": "c89c693e",
   "metadata": {},
   "outputs": [],
   "source": []
  },
  {
   "cell_type": "code",
   "execution_count": null,
   "id": "c3b7c49b",
   "metadata": {},
   "outputs": [],
   "source": []
  }
 ],
 "metadata": {
  "kernelspec": {
   "display_name": ".NET (C#)",
   "language": "C#",
   "name": ".net-csharp"
  },
  "language_info": {
   "file_extension": ".cs",
   "mimetype": "text/x-csharp",
   "name": "C#",
   "pygments_lexer": "csharp",
   "version": "8.0"
  }
 },
 "nbformat": 4,
 "nbformat_minor": 5
}
