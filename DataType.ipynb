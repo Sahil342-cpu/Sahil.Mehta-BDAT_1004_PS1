{
 "cells": [
  {
   "cell_type": "markdown",
   "id": "3f83098f",
   "metadata": {},
   "source": [
    "Que1)What is the type of folowing?\n",
    "\n",
    "1)  5=              Integer  \n",
    "2)  5.0=            Float  \n",
    "3)  5>1 =           Boolean  \n",
    "4)  '5' =           Character  \n",
    "5)  '5'*2 =         Character  \n",
    "6)  '5'+'2'=        Character  \n",
    "7)   5/2   =          Float  \n",
    "8)   5%2  =           Integer  \n",
    "9)   {5,2,1} =         Array  \n",
    "10)  5==2  =          Boolean  \n",
    "11)  Pi(the number) = Double  \n",
    "  \n"
   ]
  },
  {
   "cell_type": "code",
   "execution_count": null,
   "id": "8034cafe",
   "metadata": {},
   "outputs": [],
   "source": []
  }
 ],
 "metadata": {
  "kernelspec": {
   "display_name": ".NET (C#)",
   "language": "C#",
   "name": ".net-csharp"
  },
  "language_info": {
   "file_extension": ".cs",
   "mimetype": "text/x-csharp",
   "name": "C#",
   "pygments_lexer": "csharp",
   "version": "8.0"
  }
 },
 "nbformat": 4,
 "nbformat_minor": 5
}
