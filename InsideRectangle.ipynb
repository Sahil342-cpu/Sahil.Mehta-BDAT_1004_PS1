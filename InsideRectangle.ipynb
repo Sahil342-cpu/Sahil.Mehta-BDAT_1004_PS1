{
 "cells": [
  {
   "cell_type": "code",
   "execution_count": 2,
   "id": "30c9955b",
   "metadata": {},
   "outputs": [
    {
     "name": "stdout",
     "output_type": "stream",
     "text": [
      "True\r\n"
     ]
    }
   ],
   "source": [
    "/* The program shows if point (x,y) lies in side rectangle having (x1,y1) as its lower left coordinates and (x2,y2) as its upper right \n",
    "coordinates*/\n",
    "\n",
    "Boolean inside(double x, double y, double x1, double y1, double x2, double y2)\n",
    "{\n",
    "    if(x>=x1 && x<=2 && y>=y1 && y<=y2)\n",
    "        return true;\n",
    "    else\n",
    "        return false;\n",
    "}\n",
    "Console.WriteLine(inside(1,1,0,0,2,3));"
   ]
  },
  {
   "cell_type": "code",
   "execution_count": null,
   "id": "061c8368",
   "metadata": {},
   "outputs": [],
   "source": []
  }
 ],
 "metadata": {
  "kernelspec": {
   "display_name": ".NET (C#)",
   "language": "C#",
   "name": ".net-csharp"
  },
  "language_info": {
   "file_extension": ".cs",
   "mimetype": "text/x-csharp",
   "name": "C#",
   "pygments_lexer": "csharp",
   "version": "8.0"
  }
 },
 "nbformat": 4,
 "nbformat_minor": 5
}
