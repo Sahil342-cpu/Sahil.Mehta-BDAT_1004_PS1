{
 "cells": [
  {
   "cell_type": "code",
   "execution_count": 6,
   "id": "e66af57c",
   "metadata": {},
   "outputs": [
    {
     "name": "stdout",
     "output_type": "stream",
     "text": [
      "the longest string is :bababadalgharaghtakamminarronnkonnonn\r\n"
     ]
    }
   ],
   "source": [
    "/* Which among the strings str1 , str2 and str3 is the longest*/\n",
    "\n",
    "String str1= \"supercalifragilisticexpialidocious\";\n",
    "String str2= \"honorificabilitudinitaribus\";\n",
    "String str3= \"bababadalgharaghtakamminarronnkonnonn\";\n",
    "\n",
    "String str4=\"\";\n",
    "\n",
    "if(str1.Length>str2.Length)\n",
    "{\n",
    "    str4=str1;\n",
    "    \n",
    "}\n",
    "else if(str2.Length>str1.Length)\n",
    "{\n",
    "    str4=str2;\n",
    "}\n",
    "if(str4.Length>str3.Length)\n",
    "{\n",
    "    Console.WriteLine(\"The longest string is:{0}\",str4);\n",
    "}\n",
    "else\n",
    "{\n",
    "    Console.WriteLine(\"the longest string is :{0}\", str3);\n",
    "}\n",
    "    "
   ]
  },
  {
   "cell_type": "code",
   "execution_count": null,
   "id": "00de9588",
   "metadata": {},
   "outputs": [],
   "source": []
  }
 ],
 "metadata": {
  "kernelspec": {
   "display_name": ".NET (C#)",
   "language": "C#",
   "name": ".net-csharp"
  },
  "language_info": {
   "file_extension": ".cs",
   "mimetype": "text/x-csharp",
   "name": "C#",
   "pygments_lexer": "csharp",
   "version": "8.0"
  }
 },
 "nbformat": 4,
 "nbformat_minor": 5
}
