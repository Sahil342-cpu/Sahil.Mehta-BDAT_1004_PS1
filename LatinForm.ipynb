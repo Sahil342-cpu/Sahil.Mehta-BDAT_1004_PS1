{
 "cells": [
  {
   "cell_type": "code",
   "execution_count": 31,
   "id": "55bd7b5a",
   "metadata": {},
   "outputs": [
    {
     "name": "stdout",
     "output_type": "stream",
     "text": [
      "appyhay\n",
      "enterway\n"
     ]
    }
   ],
   "source": [
    "# The following program converts the word entered into Latin word starting with and without vowels\n",
    "\n",
    "def pig( s1):\n",
    "\n",
    "    if(s1[0]=='a' or s1[0]=='A' or s1[0]=='e' or s1[0]=='E' or s1[0]=='e' or s1[0]=='i'or s1[0]=='I'\n",
    "          or s1[0]=='u' or s1[0]=='U'):\n",
    "        \n",
    "\n",
    "        return s1.lower()+\"way\" \n",
    "    \n",
    "    else :\n",
    "         return s1[1:]+s1[0].lower()+\"ay\"\n",
    "       \n",
    "   \n",
    "        \n",
    "    \n",
    "    \n",
    "        \n",
    "     \n",
    "       \n",
    "    \n",
    "print(pig(\"Happy\"))\n",
    "print(pig(\"Enter\"))\n"
   ]
  },
  {
   "cell_type": "code",
   "execution_count": null,
   "id": "13080436",
   "metadata": {},
   "outputs": [],
   "source": []
  },
  {
   "cell_type": "code",
   "execution_count": null,
   "id": "e5e17cdf",
   "metadata": {},
   "outputs": [],
   "source": []
  },
  {
   "cell_type": "code",
   "execution_count": null,
   "id": "16cf76ac",
   "metadata": {},
   "outputs": [],
   "source": []
  },
  {
   "cell_type": "code",
   "execution_count": null,
   "id": "76eee69c",
   "metadata": {},
   "outputs": [],
   "source": []
  },
  {
   "cell_type": "code",
   "execution_count": null,
   "id": "8d2d07b4",
   "metadata": {},
   "outputs": [],
   "source": []
  }
 ],
 "metadata": {
  "kernelspec": {
   "display_name": "Python 3 (ipykernel)",
   "language": "python",
   "name": "python3"
  },
  "language_info": {
   "codemirror_mode": {
    "name": "ipython",
    "version": 3
   },
   "file_extension": ".py",
   "mimetype": "text/x-python",
   "name": "python",
   "nbconvert_exporter": "python",
   "pygments_lexer": "ipython3",
   "version": "3.9.12"
  }
 },
 "nbformat": 4,
 "nbformat_minor": 5
}
