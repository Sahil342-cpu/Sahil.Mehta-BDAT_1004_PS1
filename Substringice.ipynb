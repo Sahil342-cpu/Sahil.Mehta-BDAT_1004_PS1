{
 "cells": [
  {
   "cell_type": "code",
   "execution_count": 25,
   "id": "c5cb82c1",
   "metadata": {},
   "outputs": [
    {
     "name": "stdout",
     "output_type": "stream",
     "text": [
      "Yes , ice is a substring\r\n"
     ]
    }
   ],
   "source": [
    "/*The program depicts whether the String str contains \"ice\" as its substring  */\n",
    "\n",
    "String str=\"supercalifragilisticexpialidocious\";\n",
    "\n",
    "String str1=\"ice\";\n",
    "\n",
    "Boolean b=false;\n",
    "\n",
    "if(str.IndexOf(\"ice\")>=0)\n",
    "{\n",
    "    b=true;\n",
    "}\n",
    "if(b==true)\n",
    "{\n",
    "    Console.WriteLine(\"Yes , ice is a substring\");\n",
    "}\n",
    "else\n",
    "{\n",
    "    Console.WriteLine(\"No\");\n",
    "}\n",
    "\n",
    "  \n",
    "     \n",
    "    \n",
    "\n",
    "\n",
    "\n"
   ]
  },
  {
   "cell_type": "code",
   "execution_count": null,
   "id": "8bf8f4c2",
   "metadata": {},
   "outputs": [],
   "source": []
  },
  {
   "cell_type": "code",
   "execution_count": null,
   "id": "d7025254",
   "metadata": {},
   "outputs": [],
   "source": []
  }
 ],
 "metadata": {
  "kernelspec": {
   "display_name": ".NET (C#)",
   "language": "C#",
   "name": ".net-csharp"
  },
  "language_info": {
   "file_extension": ".cs",
   "mimetype": "text/x-csharp",
   "name": "C#",
   "pygments_lexer": "csharp",
   "version": "8.0"
  }
 },
 "nbformat": 4,
 "nbformat_minor": 5
}
